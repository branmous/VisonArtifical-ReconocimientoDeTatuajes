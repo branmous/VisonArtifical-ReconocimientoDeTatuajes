{
 "cells": [
  {
   "cell_type": "code",
   "execution_count": null,
   "metadata": {},
   "outputs": [],
   "source": [
    "#Proceso de importación de Referencias\n",
    "\n",
    "\n",
    "# Siempre que usemos matplotlib en Jupyter es necesario poner esta línea antes de cualquier otra\n",
    "%matplotlib inline\n",
    "\n",
    "# Importamos las bibliotecas necesarias y les asignamos un alias\n",
    "import skimage                           # Biblioteca para la manipulación de imágenes\n",
    "import numpy as np                       # Biblioteca para la manipulación de matrices\n",
    "\n",
    "# Importamos algunos paquetes específicos\n",
    "from matplotlib import pyplot as plt     # Biblioteca para crear gráficas y mostrar las imágenes en pantalla\n",
    "\n",
    "from skimage import data                 # Paquete con imágenes de prueba\n",
    "from skimage import io                   # Paquete para lectura/escritura de imágenes\n",
    "from skimage import color                # Paquete con las operaciones de transformaciones entre espacios de color\n",
    "from skimage import exposure             # Paquete con las funciones para calcular y alterar el histograma\n",
    "from skimage import filters              # Paquete que contiene las máscaras y filtros de suavizado y realzado\n",
    "from skimage import util                 # Paquete que contiene las funciones para cambiar el tipo de dato de las imágenes\n",
    "from skimage import morphology           # Para crear el kernel de convolución en los filtros no lienales\n",
    "from skimage import transform            # Esta biblioteca es la que contiene la implementación de Hough\n",
    "from skimage import measure              # Esta biblioteca contiene el método de etiquetado de regiones\n",
    "from skimage import feature              # Esta biblioteca es la que contiene la implementación del canny\n",
    "\n",
    "from scipy import ndimage                # Usamos esta biblioteca para realizar la operación de convolución\n",
    "import skdemo                            # Paquete ESPECIAL ADJUNTO con algunas funciones extra de visualización\n",
    "import os\n",
    "###########################\n",
    "\n",
    "from scipy.stats import kde              # Esta biblioteca es necesaria para estimar la función de densidad de los datos\n",
    "from sklearn import preprocessing        # Este paquete contiene las funciones de preprocesamiento de datos\n",
    "from sklearn import feature_selection    # Este paquete contiene los métodos de selección de características de sklearn\n",
    "from sklearn import svm                  # Este paquete contiene las funciones de un clasificador SVM\n",
    "from sklearn import model_selection      # Este paquete contiene las funciones de particionamiento de datos y validación cruzada\n",
    "from sklearn import metrics              # Este paquete contiene las funciones para evaluar un clasificador\n",
    "\n",
    "# Con este nos aseguramos que las imágenes en niveles de gris, se vean como tal siempre.\n",
    "plt.rcParams['image.cmap'] = 'gray'\n",
    "plt.rcParams['image.interpolation'] = 'none'"
   ]
  },
  {
   "cell_type": "code",
   "execution_count": null,
   "metadata": {},
   "outputs": [],
   "source": [
    "sq = morphology.square(width=3)\n",
    "dia = morphology.diamond(radius=1)\n",
    "rd = morphology.disk(radius=4)"
   ]
  },
  {
   "cell_type": "code",
   "execution_count": null,
   "metadata": {},
   "outputs": [],
   "source": [
    "#Proceso individual de imagenes\n",
    "\n",
    "img_3 = skimage.img_as_float(io.imread(\"imagenes/vannesa/v3.jpg\"))\n",
    "skdemo.imshow_all(img_3[..., 0], img_3[..., 1], img_3[..., 2],\n",
    "                 titles=['R', 'G', 'B'])\n",
    "\n",
    "img_3 = img_3[..., 0]\n",
    "skdemo.imshow_with_histogram(img_3)"
   ]
  },
  {
   "cell_type": "code",
   "execution_count": null,
   "metadata": {},
   "outputs": [],
   "source": [
    "k = morphology.square(10)\n",
    "img_median = filters.rank.median(img_3, k)\n",
    "skdemo.imshow_all(img_3,img_median)\n",
    "img_min = filters.rank.minimum(img_median, k)\n",
    "skdemo.imshow_all(img_3,img_min)"
   ]
  },
  {
   "cell_type": "code",
   "execution_count": null,
   "metadata": {},
   "outputs": [],
   "source": [
    "gradiente = filters.sobel(img_min)\n",
    "imgfloat = skimage.img_as_float(gradiente)\n",
    "skdemo.imshow_with_histogram(imgfloat)"
   ]
  },
  {
   "cell_type": "code",
   "execution_count": null,
   "metadata": {},
   "outputs": [],
   "source": [
    "img_tatto = gradiente > 0.03\n",
    "plt.imshow(img_tatto, cmap='gray')"
   ]
  },
  {
   "cell_type": "code",
   "execution_count": null,
   "metadata": {},
   "outputs": [],
   "source": [
    "img_dilatada = morphology.dilation(img_tatto, sq)\n",
    "skdemo.imshow_all(img_tatto, img_dilatada)\n",
    "#img_tatto = img_dilatada"
   ]
  },
  {
   "cell_type": "code",
   "execution_count": null,
   "metadata": {},
   "outputs": [],
   "source": [
    "etiqueta = measure.label(img_dilatada)\n",
    "plt.imshow(etiqueta, cmap=\"jet\")"
   ]
  },
  {
   "cell_type": "code",
   "execution_count": null,
   "metadata": {},
   "outputs": [],
   "source": [
    "#Proceso para la base de datos\n",
    "\n",
    "#Metodo que segmenta cada imagen \n",
    "def segmentacionImage(img):    \n",
    "    img_1 = img.copy()\n",
    "    img_1 = img_1[..., 0]\n",
    "    k = morphology.square(10)\n",
    "    img_median = filters.rank.median(img_1, k)\n",
    "    img_min = filters.rank.minimum(img_median, k)\n",
    "    \n",
    "    gradiente = filters.sobel(img_min)\n",
    "    imgfloat = skimage.img_as_float(gradiente)\n",
    "    img_tatto = gradiente > 0.03\n",
    "    return img_1,img_tatto\n",
    "\n",
    "def showFilesSeg(array):\n",
    "    f, axes = plt.subplots(ncols=3, nrows=len(array), figsize=(10, 30))   \n",
    "    for i,image in enumerate(array):\n",
    "        imageR,img_seg = segmentacionImage(image)       \n",
    "        img_dilatada = morphology.dilation(img_seg, sq)\n",
    "        \n",
    "        f1 = measure.label(img_dilatada)\n",
    "        axes[i,0].axis('off')        \n",
    "        axes[i,0].imshow(imageR, cmap='gray')\n",
    "        axes[i,0].set_title('imagen original '+ os.path.basename(array.files[i]))  \n",
    "        axes[i,1].axis('off')\n",
    "        axes[i,1].imshow(img_seg, cmap='gray')\n",
    "        axes[i,1].set_title('imagen segmentada '+ os.path.basename(array.files[i])) \n",
    "        axes[i,2].axis('off')\n",
    "        axes[i,2].imshow(f1, cmap='jet')\n",
    "        axes[i,2].set_title('imagen etiquetada '+ os.path.basename(array.files[i]))  \n",
    "        "
   ]
  },
  {
   "cell_type": "code",
   "execution_count": null,
   "metadata": {},
   "outputs": [],
   "source": [
    "vannesaTattoos = io.ImageCollection('imagenes/vannesa/*.jpg')\n",
    "showFilesSeg(vannesaTattoos)"
   ]
  },
  {
   "cell_type": "code",
   "execution_count": null,
   "metadata": {},
   "outputs": [],
   "source": [
    "carmelinaTattoos = io.ImageCollection('imagenes/carmelina/*.jpg')\n",
    "showFilesSeg(carmelinaTattoos)"
   ]
  },
  {
   "cell_type": "code",
   "execution_count": null,
   "metadata": {},
   "outputs": [],
   "source": [
    "faustinoTattoos = io.ImageCollection('imagenes/faustino/*.jpg')\n",
    "showFilesSeg(faustinoTattoos)"
   ]
  },
  {
   "cell_type": "code",
   "execution_count": null,
   "metadata": {},
   "outputs": [],
   "source": [
    "carlosTattoos = io.ImageCollection('imagenes/carlos/*.jpg')\n",
    "showFilesSeg(carlosTattoos)"
   ]
  },
  {
   "cell_type": "code",
   "execution_count": null,
   "metadata": {},
   "outputs": [],
   "source": []
  }
 ],
 "metadata": {
  "kernelspec": {
   "display_name": "Python 3",
   "language": "python",
   "name": "python3"
  },
  "language_info": {
   "codemirror_mode": {
    "name": "ipython",
    "version": 3
   },
   "file_extension": ".py",
   "mimetype": "text/x-python",
   "name": "python",
   "nbconvert_exporter": "python",
   "pygments_lexer": "ipython3",
   "version": "3.7.1"
  }
 },
 "nbformat": 4,
 "nbformat_minor": 2
}
